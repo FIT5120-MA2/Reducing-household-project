{
 "cells": [
  {
   "cell_type": "markdown",
   "metadata": {},
   "source": [
    "The below code is written to wrangle the **\"Australian Food Composition Database\"**: https://www.foodstandards.gov.au/science/monitoringnutrients/afcd/Pages/downloadableexcelfiles.aspx\n",
    "\n",
    "The database consists of six datasets as follows: \n",
    "\n",
    "\n",
    "- Food Measure.\n",
    "- Food group information.\n",
    "- Food Nutrient.\n",
    "- Food Details.\n",
    "- Recipes File.\n",
    "- Food Retention Factor.\n",
    "\n",
    "\n",
    "The datasets are cleaned and prepared to be used on our website Food Save Hero.\n",
    "\n",
    "The <u>primary key</u> that links the five datasets is the Public Food Key."
   ]
  },
  {
   "cell_type": "code",
   "execution_count": 1,
   "metadata": {},
   "outputs": [],
   "source": [
    "#import required library\n",
    "import pandas as pd\n",
    "import numpy as np \n",
    "#to install read_excel extension uncomment the below line \n",
    "#pip install xlrd"
   ]
  },
  {
   "cell_type": "markdown",
   "metadata": {},
   "source": [
    "## 1.Food Measure"
   ]
  },
  {
   "cell_type": "markdown",
   "metadata": {},
   "source": [
    "The Food Measure file contains information about food and its corresponding suitable Adult portions. \n",
    "The below code aims to achive the following:\n",
    "\n",
    "- Clean the data file by extracting only the relevant columns. \n",
    "- Adding a `Food Category` column that can be used to generate a filter on the website. "
   ]
  },
  {
   "cell_type": "code",
   "execution_count": 183,
   "metadata": {},
   "outputs": [],
   "source": [
    "#open the data file\n",
    "measures=pd.read_excel('Release 1 - Measures file.xlsx')"
   ]
  },
  {
   "cell_type": "code",
   "execution_count": 184,
   "metadata": {},
   "outputs": [
    {
     "data": {
      "text/plain": [
       "(375, 13)"
      ]
     },
     "execution_count": 184,
     "metadata": {},
     "output_type": "execute_result"
    }
   ],
   "source": [
    "#view the number of coloumns and rows \n",
    "measures.shape"
   ]
  },
  {
   "cell_type": "code",
   "execution_count": 185,
   "metadata": {},
   "outputs": [
    {
     "data": {
      "text/html": [
       "<div>\n",
       "<style scoped>\n",
       "    .dataframe tbody tr th:only-of-type {\n",
       "        vertical-align: middle;\n",
       "    }\n",
       "\n",
       "    .dataframe tbody tr th {\n",
       "        vertical-align: top;\n",
       "    }\n",
       "\n",
       "    .dataframe thead th {\n",
       "        text-align: right;\n",
       "    }\n",
       "</style>\n",
       "<table border=\"1\" class=\"dataframe\">\n",
       "  <thead>\n",
       "    <tr style=\"text-align: right;\">\n",
       "      <th></th>\n",
       "      <th>Public Food Key</th>\n",
       "      <th>Food Survey ID</th>\n",
       "      <th>Food Name</th>\n",
       "      <th>Measure ID</th>\n",
       "      <th>Quantity</th>\n",
       "      <th>Measure description 1</th>\n",
       "      <th>Measure description 2</th>\n",
       "      <th>Measure description 3</th>\n",
       "      <th>Measure description 4</th>\n",
       "      <th>Weight in grams</th>\n",
       "      <th>Volume in mLs</th>\n",
       "      <th>Derivation</th>\n",
       "      <th>Measure derivation description</th>\n",
       "    </tr>\n",
       "  </thead>\n",
       "  <tbody>\n",
       "    <tr>\n",
       "      <th>0</th>\n",
       "      <td>F000996</td>\n",
       "      <td>29101</td>\n",
       "      <td>Beer, high alcohol (5% v/v &amp; above)</td>\n",
       "      <td>74551</td>\n",
       "      <td>1</td>\n",
       "      <td>can</td>\n",
       "      <td>NaN</td>\n",
       "      <td>NaN</td>\n",
       "      <td>NaN</td>\n",
       "      <td>379.0</td>\n",
       "      <td>375</td>\n",
       "      <td>Estimated</td>\n",
       "      <td>Assumes 375mL based on FSANZ internet search. ...</td>\n",
       "    </tr>\n",
       "    <tr>\n",
       "      <th>1</th>\n",
       "      <td>F000994</td>\n",
       "      <td>29101</td>\n",
       "      <td>Beer, full strength (alcohol 4-4.9% v/v)</td>\n",
       "      <td>74554</td>\n",
       "      <td>1</td>\n",
       "      <td>can</td>\n",
       "      <td>NaN</td>\n",
       "      <td>NaN</td>\n",
       "      <td>NaN</td>\n",
       "      <td>379.0</td>\n",
       "      <td>375</td>\n",
       "      <td>Estimated</td>\n",
       "      <td>Assumes 375mL based on FSANZ internet search. ...</td>\n",
       "    </tr>\n",
       "  </tbody>\n",
       "</table>\n",
       "</div>"
      ],
      "text/plain": [
       "  Public Food Key  Food Survey ID                                 Food Name  \\\n",
       "0         F000996           29101       Beer, high alcohol (5% v/v & above)   \n",
       "1         F000994           29101  Beer, full strength (alcohol 4-4.9% v/v)   \n",
       "\n",
       "   Measure ID  Quantity Measure description 1 Measure description 2  \\\n",
       "0       74551         1                   can                   NaN   \n",
       "1       74554         1                   can                   NaN   \n",
       "\n",
       "  Measure description 3 Measure description 4  Weight in grams  Volume in mLs  \\\n",
       "0                   NaN                   NaN            379.0            375   \n",
       "1                   NaN                   NaN            379.0            375   \n",
       "\n",
       "  Derivation                     Measure derivation description  \n",
       "0  Estimated  Assumes 375mL based on FSANZ internet search. ...  \n",
       "1  Estimated  Assumes 375mL based on FSANZ internet search. ...  "
      ]
     },
     "execution_count": 185,
     "metadata": {},
     "output_type": "execute_result"
    }
   ],
   "source": [
    "#view the first few rows\n",
    "measures.head(2)"
   ]
  },
  {
   "cell_type": "code",
   "execution_count": 186,
   "metadata": {},
   "outputs": [],
   "source": [
    "#drop unqanted columns \n",
    "measures=measures.drop(['Measure description 2', 'Measure description 3','Measure description 4',\n",
    "               'Derivation','Measure derivation description'], axis=1)"
   ]
  },
  {
   "cell_type": "code",
   "execution_count": 187,
   "metadata": {},
   "outputs": [
    {
     "data": {
      "text/html": [
       "<div>\n",
       "<style scoped>\n",
       "    .dataframe tbody tr th:only-of-type {\n",
       "        vertical-align: middle;\n",
       "    }\n",
       "\n",
       "    .dataframe tbody tr th {\n",
       "        vertical-align: top;\n",
       "    }\n",
       "\n",
       "    .dataframe thead th {\n",
       "        text-align: right;\n",
       "    }\n",
       "</style>\n",
       "<table border=\"1\" class=\"dataframe\">\n",
       "  <thead>\n",
       "    <tr style=\"text-align: right;\">\n",
       "      <th></th>\n",
       "      <th>Public Food Key</th>\n",
       "      <th>Food Survey ID</th>\n",
       "      <th>Food Name</th>\n",
       "      <th>Measure ID</th>\n",
       "      <th>Quantity</th>\n",
       "      <th>Measure description 1</th>\n",
       "      <th>Weight in grams</th>\n",
       "      <th>Volume in mLs</th>\n",
       "    </tr>\n",
       "  </thead>\n",
       "  <tbody>\n",
       "    <tr>\n",
       "      <th>0</th>\n",
       "      <td>F000996</td>\n",
       "      <td>29101</td>\n",
       "      <td>Beer, high alcohol (5% v/v &amp; above)</td>\n",
       "      <td>74551</td>\n",
       "      <td>1</td>\n",
       "      <td>can</td>\n",
       "      <td>379.0</td>\n",
       "      <td>375</td>\n",
       "    </tr>\n",
       "    <tr>\n",
       "      <th>1</th>\n",
       "      <td>F000994</td>\n",
       "      <td>29101</td>\n",
       "      <td>Beer, full strength (alcohol 4-4.9% v/v)</td>\n",
       "      <td>74554</td>\n",
       "      <td>1</td>\n",
       "      <td>can</td>\n",
       "      <td>379.0</td>\n",
       "      <td>375</td>\n",
       "    </tr>\n",
       "  </tbody>\n",
       "</table>\n",
       "</div>"
      ],
      "text/plain": [
       "  Public Food Key  Food Survey ID                                 Food Name  \\\n",
       "0         F000996           29101       Beer, high alcohol (5% v/v & above)   \n",
       "1         F000994           29101  Beer, full strength (alcohol 4-4.9% v/v)   \n",
       "\n",
       "   Measure ID  Quantity Measure description 1  Weight in grams  Volume in mLs  \n",
       "0       74551         1                   can            379.0            375  \n",
       "1       74554         1                   can            379.0            375  "
      ]
     },
     "execution_count": 187,
     "metadata": {},
     "output_type": "execute_result"
    }
   ],
   "source": [
    "#view the first few rows of the dataframe with relevant columns\n",
    "measures.head(2)"
   ]
  },
  {
   "cell_type": "markdown",
   "metadata": {},
   "source": [
    "# 2.Food Group Information"
   ]
  },
  {
   "cell_type": "markdown",
   "metadata": {},
   "source": [
    "Now, we want to add the `Food Category` column. To do that we will retrive the food category information from the file <u>Food group information.xlsx</u>"
   ]
  },
  {
   "cell_type": "markdown",
   "metadata": {},
   "source": [
    "Open the data file that contains the category of each food under `Food group name`."
   ]
  },
  {
   "cell_type": "code",
   "execution_count": 188,
   "metadata": {},
   "outputs": [],
   "source": [
    "#get the dataset excluding the first row containing the subject\n",
    "info=pd.read_excel('Release 1 - Food group information.xlsx',skiprows=[0])"
   ]
  },
  {
   "cell_type": "code",
   "execution_count": 189,
   "metadata": {},
   "outputs": [
    {
     "data": {
      "text/html": [
       "<div>\n",
       "<style scoped>\n",
       "    .dataframe tbody tr th:only-of-type {\n",
       "        vertical-align: middle;\n",
       "    }\n",
       "\n",
       "    .dataframe tbody tr th {\n",
       "        vertical-align: top;\n",
       "    }\n",
       "\n",
       "    .dataframe thead th {\n",
       "        text-align: right;\n",
       "    }\n",
       "</style>\n",
       "<table border=\"1\" class=\"dataframe\">\n",
       "  <thead>\n",
       "    <tr style=\"text-align: right;\">\n",
       "      <th></th>\n",
       "      <th>Food group ID</th>\n",
       "      <th>Food group name</th>\n",
       "      <th>Number of foods in Release 1</th>\n",
       "      <th>Unnamed: 3</th>\n",
       "      <th>Inclusions</th>\n",
       "      <th>Additional information</th>\n",
       "    </tr>\n",
       "  </thead>\n",
       "  <tbody>\n",
       "    <tr>\n",
       "      <th>0</th>\n",
       "      <td>11.0</td>\n",
       "      <td>Non-alcoholic beverages</td>\n",
       "      <td>47.0</td>\n",
       "      <td>Profiles are generally derived by nutrient ana...</td>\n",
       "      <td>111 - Tea</td>\n",
       "      <td>Data for green tea is reported in Release 1 fo...</td>\n",
       "    </tr>\n",
       "    <tr>\n",
       "      <th>1</th>\n",
       "      <td>NaN</td>\n",
       "      <td>NaN</td>\n",
       "      <td>NaN</td>\n",
       "      <td>NaN</td>\n",
       "      <td>112 - Coffee and coffee substitutes</td>\n",
       "      <td>Data for coffee powder and espresso have been ...</td>\n",
       "    </tr>\n",
       "  </tbody>\n",
       "</table>\n",
       "</div>"
      ],
      "text/plain": [
       "   Food group ID          Food group name  Number of foods in Release 1  \\\n",
       "0           11.0  Non-alcoholic beverages                          47.0   \n",
       "1            NaN                      NaN                           NaN   \n",
       "\n",
       "                                          Unnamed: 3  \\\n",
       "0  Profiles are generally derived by nutrient ana...   \n",
       "1                                                NaN   \n",
       "\n",
       "                             Inclusions  \\\n",
       "0                            111 - Tea    \n",
       "1  112 - Coffee and coffee substitutes    \n",
       "\n",
       "                              Additional information  \n",
       "0  Data for green tea is reported in Release 1 fo...  \n",
       "1  Data for coffee powder and espresso have been ...  "
      ]
     },
     "execution_count": 189,
     "metadata": {},
     "output_type": "execute_result"
    }
   ],
   "source": [
    "info.head(2)"
   ]
  },
  {
   "cell_type": "code",
   "execution_count": 190,
   "metadata": {},
   "outputs": [],
   "source": [
    "#select the relvant columns \n",
    "info=info[['Food group ID','Food group name','Inclusions']]"
   ]
  },
  {
   "cell_type": "code",
   "execution_count": 191,
   "metadata": {},
   "outputs": [
    {
     "data": {
      "text/html": [
       "<div>\n",
       "<style scoped>\n",
       "    .dataframe tbody tr th:only-of-type {\n",
       "        vertical-align: middle;\n",
       "    }\n",
       "\n",
       "    .dataframe tbody tr th {\n",
       "        vertical-align: top;\n",
       "    }\n",
       "\n",
       "    .dataframe thead th {\n",
       "        text-align: right;\n",
       "    }\n",
       "</style>\n",
       "<table border=\"1\" class=\"dataframe\">\n",
       "  <thead>\n",
       "    <tr style=\"text-align: right;\">\n",
       "      <th></th>\n",
       "      <th>Food group ID</th>\n",
       "      <th>Food group name</th>\n",
       "      <th>Inclusions</th>\n",
       "    </tr>\n",
       "  </thead>\n",
       "  <tbody>\n",
       "    <tr>\n",
       "      <th>0</th>\n",
       "      <td>11.0</td>\n",
       "      <td>Non-alcoholic beverages</td>\n",
       "      <td>111 - Tea</td>\n",
       "    </tr>\n",
       "    <tr>\n",
       "      <th>1</th>\n",
       "      <td>NaN</td>\n",
       "      <td>NaN</td>\n",
       "      <td>112 - Coffee and coffee substitutes</td>\n",
       "    </tr>\n",
       "  </tbody>\n",
       "</table>\n",
       "</div>"
      ],
      "text/plain": [
       "   Food group ID          Food group name  \\\n",
       "0           11.0  Non-alcoholic beverages   \n",
       "1            NaN                      NaN   \n",
       "\n",
       "                             Inclusions  \n",
       "0                            111 - Tea   \n",
       "1  112 - Coffee and coffee substitutes   "
      ]
     },
     "execution_count": 191,
     "metadata": {},
     "output_type": "execute_result"
    }
   ],
   "source": [
    "#view the first few rows\n",
    "info.head(2)"
   ]
  },
  {
   "cell_type": "markdown",
   "metadata": {},
   "source": [
    "Columns Description:\n",
    "- `Food group ID`: contains the group number\n",
    "- `Food group name`: contains the group name\n",
    "- `Inclusions`: includes the food items responding to the category"
   ]
  },
  {
   "cell_type": "markdown",
   "metadata": {},
   "source": [
    "#### Alot of rows contain Nan Values. By filtering the rows to remove the NaN values, we can see the categories of each food item.\n",
    "\n",
    "<u>For instance</u>:\n",
    "- `Food group ID`: If the **food group ID** is 11.0 the **food group name** is <u>non-alcholic beverages</u>. The items that fall under this category start with 11 such as: Tea. \n",
    "\n",
    "The same logic continues for the other food groups. "
   ]
  },
  {
   "cell_type": "code",
   "execution_count": 192,
   "metadata": {},
   "outputs": [],
   "source": [
    "#filter the dataframe\n",
    "filtered_info = info[info['Food group ID'].notnull()]"
   ]
  },
  {
   "cell_type": "markdown",
   "metadata": {},
   "source": [
    "After the filter has been applied, we can see the relevance between the columns."
   ]
  },
  {
   "cell_type": "code",
   "execution_count": 193,
   "metadata": {},
   "outputs": [
    {
     "data": {
      "text/html": [
       "<div>\n",
       "<style scoped>\n",
       "    .dataframe tbody tr th:only-of-type {\n",
       "        vertical-align: middle;\n",
       "    }\n",
       "\n",
       "    .dataframe tbody tr th {\n",
       "        vertical-align: top;\n",
       "    }\n",
       "\n",
       "    .dataframe thead th {\n",
       "        text-align: right;\n",
       "    }\n",
       "</style>\n",
       "<table border=\"1\" class=\"dataframe\">\n",
       "  <thead>\n",
       "    <tr style=\"text-align: right;\">\n",
       "      <th></th>\n",
       "      <th>Food group ID</th>\n",
       "      <th>Food group name</th>\n",
       "      <th>Inclusions</th>\n",
       "    </tr>\n",
       "  </thead>\n",
       "  <tbody>\n",
       "    <tr>\n",
       "      <th>0</th>\n",
       "      <td>11.0</td>\n",
       "      <td>Non-alcoholic beverages</td>\n",
       "      <td>111 - Tea</td>\n",
       "    </tr>\n",
       "    <tr>\n",
       "      <th>8</th>\n",
       "      <td>12.0</td>\n",
       "      <td>Cereals and cereal products</td>\n",
       "      <td>121 - Flours and other cereal grains and starc...</td>\n",
       "    </tr>\n",
       "    <tr>\n",
       "      <th>14</th>\n",
       "      <td>13.0</td>\n",
       "      <td>Cereal based products and dishes</td>\n",
       "      <td>131 - Sweet biscuits</td>\n",
       "    </tr>\n",
       "    <tr>\n",
       "      <th>20</th>\n",
       "      <td>14.0</td>\n",
       "      <td>Fats and oils</td>\n",
       "      <td>141 - Butters</td>\n",
       "    </tr>\n",
       "    <tr>\n",
       "      <th>25</th>\n",
       "      <td>15.0</td>\n",
       "      <td>Fish and seafood products and dishes</td>\n",
       "      <td>151 - Fin fish (excluding commercially sterile)</td>\n",
       "    </tr>\n",
       "    <tr>\n",
       "      <th>30</th>\n",
       "      <td>16.0</td>\n",
       "      <td>Fruit products and dishes</td>\n",
       "      <td>161 - Pome fruit</td>\n",
       "    </tr>\n",
       "    <tr>\n",
       "      <th>38</th>\n",
       "      <td>17.0</td>\n",
       "      <td>Egg products and dishes</td>\n",
       "      <td>171 - Eggs</td>\n",
       "    </tr>\n",
       "    <tr>\n",
       "      <th>40</th>\n",
       "      <td>18.0</td>\n",
       "      <td>Meat, poultry and game products and dishes</td>\n",
       "      <td>181 - Beef, sheep and pork, unprocessed</td>\n",
       "    </tr>\n",
       "    <tr>\n",
       "      <th>48</th>\n",
       "      <td>19.0</td>\n",
       "      <td>Milk products and dishes</td>\n",
       "      <td>191 - Dairy milk (cow, sheep and goat)</td>\n",
       "    </tr>\n",
       "    <tr>\n",
       "      <th>55</th>\n",
       "      <td>20.0</td>\n",
       "      <td>Dairy &amp; meat substitutes</td>\n",
       "      <td>201 - Dairy milk substitutes, unflavoured</td>\n",
       "    </tr>\n",
       "    <tr>\n",
       "      <th>59</th>\n",
       "      <td>21.0</td>\n",
       "      <td>Soup</td>\n",
       "      <td>212 - Dry soup mix</td>\n",
       "    </tr>\n",
       "    <tr>\n",
       "      <th>61</th>\n",
       "      <td>22.0</td>\n",
       "      <td>Seed and nut products and dishes</td>\n",
       "      <td>221 - Seeds and seed products</td>\n",
       "    </tr>\n",
       "    <tr>\n",
       "      <th>63</th>\n",
       "      <td>23.0</td>\n",
       "      <td>Savoury sauces and condiments</td>\n",
       "      <td>231 - Gravies and savoury sauces</td>\n",
       "    </tr>\n",
       "    <tr>\n",
       "      <th>66</th>\n",
       "      <td>24.0</td>\n",
       "      <td>Vegetable products and dishes</td>\n",
       "      <td>240 - Wild harvested vegetables, and vegetable...</td>\n",
       "    </tr>\n",
       "    <tr>\n",
       "      <th>75</th>\n",
       "      <td>25.0</td>\n",
       "      <td>Legume and pulse products and dishes</td>\n",
       "      <td>251 - Mature legumes and pulses</td>\n",
       "    </tr>\n",
       "    <tr>\n",
       "      <th>77</th>\n",
       "      <td>26.0</td>\n",
       "      <td>Snack foods</td>\n",
       "      <td>261 - Potato snacks</td>\n",
       "    </tr>\n",
       "    <tr>\n",
       "      <th>81</th>\n",
       "      <td>27.0</td>\n",
       "      <td>Sugar products and dishes</td>\n",
       "      <td>271 - Sugar, honey and syrups</td>\n",
       "    </tr>\n",
       "    <tr>\n",
       "      <th>84</th>\n",
       "      <td>28.0</td>\n",
       "      <td>Confectionery and cereal/nut/fruit/seed bars</td>\n",
       "      <td>281 - Chocolate and chocolate-based confection...</td>\n",
       "    </tr>\n",
       "    <tr>\n",
       "      <th>87</th>\n",
       "      <td>29.0</td>\n",
       "      <td>Alcoholic beverages</td>\n",
       "      <td>291 - Beers</td>\n",
       "    </tr>\n",
       "    <tr>\n",
       "      <th>91</th>\n",
       "      <td>31.0</td>\n",
       "      <td>Miscellaneous</td>\n",
       "      <td>311 - Yeast, and yeast vegetable or meat extra...</td>\n",
       "    </tr>\n",
       "    <tr>\n",
       "      <th>95</th>\n",
       "      <td>32.0</td>\n",
       "      <td>Infant formulae and foods</td>\n",
       "      <td>321 - Infant formulae and human breast milk</td>\n",
       "    </tr>\n",
       "    <tr>\n",
       "      <th>96</th>\n",
       "      <td>34.0</td>\n",
       "      <td>Reptiles, amphibia and insects</td>\n",
       "      <td>341 - Reptiles</td>\n",
       "    </tr>\n",
       "  </tbody>\n",
       "</table>\n",
       "</div>"
      ],
      "text/plain": [
       "    Food group ID                                Food group name  \\\n",
       "0            11.0                        Non-alcoholic beverages   \n",
       "8            12.0                   Cereals and cereal products    \n",
       "14           13.0               Cereal based products and dishes   \n",
       "20           14.0                                 Fats and oils    \n",
       "25           15.0          Fish and seafood products and dishes    \n",
       "30           16.0                     Fruit products and dishes    \n",
       "38           17.0                       Egg products and dishes    \n",
       "40           18.0    Meat, poultry and game products and dishes    \n",
       "48           19.0                      Milk products and dishes    \n",
       "55           20.0                       Dairy & meat substitutes   \n",
       "59           21.0                                          Soup    \n",
       "61           22.0              Seed and nut products and dishes    \n",
       "63           23.0                 Savoury sauces and condiments    \n",
       "66           24.0                 Vegetable products and dishes    \n",
       "75           25.0          Legume and pulse products and dishes    \n",
       "77           26.0                                   Snack foods    \n",
       "81           27.0                     Sugar products and dishes    \n",
       "84           28.0  Confectionery and cereal/nut/fruit/seed bars    \n",
       "87           29.0                           Alcoholic beverages    \n",
       "91           31.0                                 Miscellaneous    \n",
       "95           32.0                     Infant formulae and foods    \n",
       "96           34.0                 Reptiles, amphibia and insects   \n",
       "\n",
       "                                           Inclusions  \n",
       "0                                          111 - Tea   \n",
       "8   121 - Flours and other cereal grains and starc...  \n",
       "14                               131 - Sweet biscuits  \n",
       "20                                      141 - Butters  \n",
       "25   151 - Fin fish (excluding commercially sterile)   \n",
       "30                                  161 - Pome fruit   \n",
       "38                                        171 - Eggs   \n",
       "40            181 - Beef, sheep and pork, unprocessed  \n",
       "48             191 - Dairy milk (cow, sheep and goat)  \n",
       "55          201 - Dairy milk substitutes, unflavoured  \n",
       "59                                212 - Dry soup mix   \n",
       "61                     221 - Seeds and seed products   \n",
       "63                  231 - Gravies and savoury sauces   \n",
       "66  240 - Wild harvested vegetables, and vegetable...  \n",
       "75                   251 - Mature legumes and pulses   \n",
       "77                               261 - Potato snacks   \n",
       "81                     271 - Sugar, honey and syrups   \n",
       "84  281 - Chocolate and chocolate-based confection...  \n",
       "87                                       291 - Beers   \n",
       "91  311 - Yeast, and yeast vegetable or meat extra...  \n",
       "95       321 - Infant formulae and human breast milk   \n",
       "96                                     341 - Reptiles  "
      ]
     },
     "execution_count": 193,
     "metadata": {},
     "output_type": "execute_result"
    }
   ],
   "source": [
    "#view the filtered dataframe\n",
    "filtered_info"
   ]
  },
  {
   "cell_type": "markdown",
   "metadata": {},
   "source": [
    "Now we can add a `Food Category` column to the **measures** dataframe. The Food Category column is updated based on the numbers in Food Survey ID."
   ]
  },
  {
   "cell_type": "code",
   "execution_count": 194,
   "metadata": {},
   "outputs": [],
   "source": [
    "#create a new column Food Category and update the values to match the Food group name\n",
    "#by setting a condition based on the number range of Food Survey ID\n",
    "\n",
    "#Non-alcoholic beverages\n",
    "measures.loc[(measures['Food Survey ID'] >= 11501) & (measures['Food Survey ID']< 12101),\n",
    "             'Food Category'] = 'Non-alcoholic beverages'\n",
    "\n",
    "#Cereals and cereal products\n",
    "measures.loc[(measures['Food Survey ID'] >= 12101) & (measures['Food Survey ID']< 13101),\n",
    "             'Food Category'] = 'Cereals and cereal products'\n",
    "\n",
    "#Cereal based products and dishes\n",
    "measures.loc[(measures['Food Survey ID'] >= 13101) & (measures['Food Survey ID']< 14101),\n",
    "             'Food Category'] = 'Cereal based products and dishes'\n",
    "\n",
    "#Fats and oils\n",
    "measures.loc[(measures['Food Survey ID'] >= 14101) & (measures['Food Survey ID']< 15101),\n",
    "             'Food Category'] = 'Fats and oils'\n",
    "\n",
    "#Fish and seafood products and dishes\n",
    "measures.loc[(measures['Food Survey ID'] >= 15101) & (measures['Food Survey ID']< 16101),\n",
    "             'Food Category'] = 'Fish and seafood products and dishes'\n",
    "\n",
    "#Fruit products and dishes\n",
    "measures.loc[(measures['Food Survey ID'] >= 16101) & (measures['Food Survey ID']< 17101),\n",
    "             'Food Category'] = 'Fruit products and dishes'\n",
    "\n",
    "#Egg products and dishes\n",
    "measures.loc[(measures['Food Survey ID'] >= 17101) & (measures['Food Survey ID']< 18101),\n",
    "             'Food Category'] = 'Egg products and dishes'\n",
    "\n",
    "#Meat, poultry and game products and dishes\n",
    "measures.loc[(measures['Food Survey ID'] >= 18101) & (measures['Food Survey ID']< 19101),\n",
    "             'Food Category'] = 'Meat, poultry and game products and dishes'\n",
    "\n",
    "#Milk products and dishes\n",
    "measures.loc[(measures['Food Survey ID'] >= 19101) & (measures['Food Survey ID']< 20101),\n",
    "             'Food Category'] = 'Milk products and dishes'\n",
    "\n",
    "#Dairy & meat substitutes\n",
    "measures.loc[(measures['Food Survey ID'] >= 20101) & (measures['Food Survey ID']< 21101),\n",
    "             'Food Category'] = 'Dairy & meat substitutes'\n",
    "\n",
    "#Soup\n",
    "measures.loc[(measures['Food Survey ID'] >= 21101) & (measures['Food Survey ID']< 22101),\n",
    "             'Food Category'] = 'Soup'\n",
    "\n",
    "#Seed and nut products and dishes\n",
    "measures.loc[(measures['Food Survey ID'] >= 22101) & (measures['Food Survey ID']< 23101),\n",
    "             'Food Category'] = 'Seed and nut products and dishes'\n",
    "\n",
    "#Savoury sauces and condiments\n",
    "measures.loc[(measures['Food Survey ID'] >= 23101) & (measures['Food Survey ID']< 24101),\n",
    "             'Food Category'] = 'Savoury sauces and condiments'\n",
    "\n",
    "#Vegetable products and dishes\n",
    "measures.loc[(measures['Food Survey ID'] >= 24101) & (measures['Food Survey ID']< 25101),\n",
    "             'Food Category'] = 'Vegetable products and dishes'\n",
    "\n",
    "#Legume and pulse products and dishes\n",
    "measures.loc[(measures['Food Survey ID'] >= 25101) & (measures['Food Survey ID']< 26101),\n",
    "             'Food Category'] = 'Legume and pulse products and dishes'\n",
    "\n",
    "#Snack foods\n",
    "measures.loc[(measures['Food Survey ID'] >= 26101) & (measures['Food Survey ID']< 27101),\n",
    "             'Food Category'] = 'Snack foods'\n",
    "\n",
    "#Sugar products and dishes\n",
    "measures.loc[(measures['Food Survey ID'] >= 27101) & (measures['Food Survey ID']< 28101),\n",
    "             'Food Category'] = 'Sugar products and dishes'\n",
    "\n",
    "#Confectionery and cereal/nut/fruit/seed bars\n",
    "measures.loc[(measures['Food Survey ID'] >= 28101) & (measures['Food Survey ID']< 29101),\n",
    "             'Food Category'] = 'Confectionery and cereal/nut/fruit/seed bars'\n",
    "\n",
    "#Alcoholic beverages\n",
    "measures.loc[(measures['Food Survey ID'] >= 29101) & (measures['Food Survey ID']< 31101),\n",
    "             'Food Category'] = 'Alcoholic beverages'\n",
    "\n",
    "\n",
    "#Miscellaneous\n",
    "measures.loc[(measures['Food Survey ID'] >= 31101) & (measures['Food Survey ID']< 32101),\n",
    "             'Food Category'] = 'Miscellaneous'\n",
    "\n",
    "#Infant formulae and foods\n",
    "measures.loc[(measures['Food Survey ID'] >= 32101) & (measures['Food Survey ID']< 33101),\n",
    "             'Food Category'] = 'Infant formulae and foods'\n",
    "\n",
    "#Reptiles, amphibia and insects\n",
    "measures.loc[(measures['Food Survey ID']>= 33101),\n",
    "             'Food Category'] = 'Reptiles, amphibia and insects'"
   ]
  },
  {
   "cell_type": "code",
   "execution_count": 196,
   "metadata": {},
   "outputs": [],
   "source": [
    "#rearrange column and view the final output\n",
    "measures=measures[['Public Food Key','Food Survey ID','Food Category','Food Name','Measure ID','Quantity',\n",
    "                  'Measure description 1','Weight in grams','Volume in mLs']]"
   ]
  },
  {
   "cell_type": "code",
   "execution_count": 197,
   "metadata": {
    "scrolled": true
   },
   "outputs": [
    {
     "data": {
      "text/html": [
       "<div>\n",
       "<style scoped>\n",
       "    .dataframe tbody tr th:only-of-type {\n",
       "        vertical-align: middle;\n",
       "    }\n",
       "\n",
       "    .dataframe tbody tr th {\n",
       "        vertical-align: top;\n",
       "    }\n",
       "\n",
       "    .dataframe thead th {\n",
       "        text-align: right;\n",
       "    }\n",
       "</style>\n",
       "<table border=\"1\" class=\"dataframe\">\n",
       "  <thead>\n",
       "    <tr style=\"text-align: right;\">\n",
       "      <th></th>\n",
       "      <th>Public Food Key</th>\n",
       "      <th>Food Survey ID</th>\n",
       "      <th>Food Category</th>\n",
       "      <th>Food Name</th>\n",
       "      <th>Measure ID</th>\n",
       "      <th>Quantity</th>\n",
       "      <th>Measure description 1</th>\n",
       "      <th>Weight in grams</th>\n",
       "      <th>Volume in mLs</th>\n",
       "    </tr>\n",
       "  </thead>\n",
       "  <tbody>\n",
       "    <tr>\n",
       "      <th>0</th>\n",
       "      <td>F000996</td>\n",
       "      <td>29101</td>\n",
       "      <td>Alcoholic beverages</td>\n",
       "      <td>Beer, high alcohol (5% v/v &amp; above)</td>\n",
       "      <td>74551</td>\n",
       "      <td>1</td>\n",
       "      <td>can</td>\n",
       "      <td>379.0</td>\n",
       "      <td>375</td>\n",
       "    </tr>\n",
       "    <tr>\n",
       "      <th>1</th>\n",
       "      <td>F000994</td>\n",
       "      <td>29101</td>\n",
       "      <td>Alcoholic beverages</td>\n",
       "      <td>Beer, full strength (alcohol 4-4.9% v/v)</td>\n",
       "      <td>74554</td>\n",
       "      <td>1</td>\n",
       "      <td>can</td>\n",
       "      <td>379.0</td>\n",
       "      <td>375</td>\n",
       "    </tr>\n",
       "    <tr>\n",
       "      <th>2</th>\n",
       "      <td>F000995</td>\n",
       "      <td>29101</td>\n",
       "      <td>Alcoholic beverages</td>\n",
       "      <td>Beer, full strength (alcohol 4-4.9% v/v), carb...</td>\n",
       "      <td>74972</td>\n",
       "      <td>1</td>\n",
       "      <td>can</td>\n",
       "      <td>379.0</td>\n",
       "      <td>375</td>\n",
       "    </tr>\n",
       "  </tbody>\n",
       "</table>\n",
       "</div>"
      ],
      "text/plain": [
       "  Public Food Key  Food Survey ID        Food Category  \\\n",
       "0         F000996           29101  Alcoholic beverages   \n",
       "1         F000994           29101  Alcoholic beverages   \n",
       "2         F000995           29101  Alcoholic beverages   \n",
       "\n",
       "                                           Food Name  Measure ID  Quantity  \\\n",
       "0                Beer, high alcohol (5% v/v & above)       74551         1   \n",
       "1           Beer, full strength (alcohol 4-4.9% v/v)       74554         1   \n",
       "2  Beer, full strength (alcohol 4-4.9% v/v), carb...       74972         1   \n",
       "\n",
       "  Measure description 1  Weight in grams  Volume in mLs  \n",
       "0                   can            379.0            375  \n",
       "1                   can            379.0            375  \n",
       "2                   can            379.0            375  "
      ]
     },
     "execution_count": 197,
     "metadata": {},
     "output_type": "execute_result"
    }
   ],
   "source": [
    "#view the final frame\n",
    "measures.head(3)"
   ]
  },
  {
   "cell_type": "code",
   "execution_count": 253,
   "metadata": {},
   "outputs": [
    {
     "data": {
      "text/plain": [
       "(375, 9)"
      ]
     },
     "execution_count": 253,
     "metadata": {},
     "output_type": "execute_result"
    }
   ],
   "source": [
    "#view the shape of the data file \n",
    "measures.shape"
   ]
  },
  {
   "cell_type": "code",
   "execution_count": 199,
   "metadata": {},
   "outputs": [],
   "source": [
    "#rename columns for ease of use in the website Database stage\n",
    "measures.rename(columns={'Public Food Key': 'Public_Food_key','Food Survey ID': 'Food_Survey_ID',\n",
    "                         'Food Category':'Food_Category','Food Name':'Food_Name',\n",
    "                         'Measure ID':'Measure ID','Measure description 1':'Measure_desc',\n",
    "                         'Weight in grams': 'Weight_grams','Volume in mLs':'Volume_mLs'}, inplace=True)"
   ]
  },
  {
   "cell_type": "code",
   "execution_count": 200,
   "metadata": {},
   "outputs": [],
   "source": [
    "measures.to_csv('measures_adult.csv',index=False)"
   ]
  },
  {
   "cell_type": "markdown",
   "metadata": {},
   "source": [
    "### Use the adult portion information to derive the kids portion"
   ]
  },
  {
   "cell_type": "markdown",
   "metadata": {},
   "source": [
    "Update the table to include food portion for three categories: \n",
    "- Toddlers (1-3 years)\n",
    "- Children (4-10 years)\n",
    "- Adolescents (11-18 years)\n",
    "\n",
    "The information used in this section is derived from The Australian Dietary Guidelines 2013.\n",
    "https://nutritionaustralia.org/fact-sheets/australian-dietary-guidelines-recommended-daily-intakes/#toddlers"
   ]
  },
  {
   "cell_type": "markdown",
   "metadata": {},
   "source": [
    "## 2.Food Nutrient"
   ]
  },
  {
   "cell_type": "markdown",
   "metadata": {},
   "source": [
    "This dataset contains different food with the nutrient values for each kind. The dataset can be used to provide the website users with the food nutrient informatin. The final version of the file consists of 178 nutrient factors. These factors can be ranked according to importance and relevance to user when the dataset is in use. \n"
   ]
  },
  {
   "cell_type": "code",
   "execution_count": 201,
   "metadata": {
    "scrolled": false
   },
   "outputs": [],
   "source": [
    "#open the file and specify the required sheet \n",
    "nutrient = pd.read_excel('Release 1 - Food nutrient database.xlsx', \n",
    "                                sheet_name='All solids & liquids per 100g')"
   ]
  },
  {
   "cell_type": "code",
   "execution_count": 202,
   "metadata": {},
   "outputs": [
    {
     "data": {
      "text/plain": [
       "(1535, 252)"
      ]
     },
     "execution_count": 202,
     "metadata": {},
     "output_type": "execute_result"
    }
   ],
   "source": [
    "#view the shape for the dataframe \n",
    "nutrient.shape"
   ]
  },
  {
   "cell_type": "code",
   "execution_count": 203,
   "metadata": {},
   "outputs": [
    {
     "data": {
      "text/html": [
       "<div>\n",
       "<style scoped>\n",
       "    .dataframe tbody tr th:only-of-type {\n",
       "        vertical-align: middle;\n",
       "    }\n",
       "\n",
       "    .dataframe tbody tr th {\n",
       "        vertical-align: top;\n",
       "    }\n",
       "\n",
       "    .dataframe thead th {\n",
       "        text-align: right;\n",
       "    }\n",
       "</style>\n",
       "<table border=\"1\" class=\"dataframe\">\n",
       "  <thead>\n",
       "    <tr style=\"text-align: right;\">\n",
       "      <th></th>\n",
       "      <th>Public Food Key</th>\n",
       "      <th>Classification</th>\n",
       "      <th>Food Name</th>\n",
       "      <th>Energy, with dietary fibre</th>\n",
       "      <th>Energy, without dietary fibre</th>\n",
       "      <th>Moisture (water)</th>\n",
       "      <th>Protein</th>\n",
       "      <th>Nitrogen</th>\n",
       "      <th>Total Fat</th>\n",
       "      <th>Ash</th>\n",
       "      <th>...</th>\n",
       "      <th>Proline</th>\n",
       "      <th>Unnamed: 243</th>\n",
       "      <th>Serine</th>\n",
       "      <th>Unnamed: 245</th>\n",
       "      <th>Threonine</th>\n",
       "      <th>Unnamed: 247</th>\n",
       "      <th>Tyrosine</th>\n",
       "      <th>Unnamed: 249</th>\n",
       "      <th>Valine</th>\n",
       "      <th>Unnamed: 251</th>\n",
       "    </tr>\n",
       "  </thead>\n",
       "  <tbody>\n",
       "    <tr>\n",
       "      <th>0</th>\n",
       "      <td>NaN</td>\n",
       "      <td>NaN</td>\n",
       "      <td>NaN</td>\n",
       "      <td>kJ</td>\n",
       "      <td>kJ</td>\n",
       "      <td>g</td>\n",
       "      <td>g</td>\n",
       "      <td>g</td>\n",
       "      <td>g</td>\n",
       "      <td>g</td>\n",
       "      <td>...</td>\n",
       "      <td>mg/g N</td>\n",
       "      <td>mg</td>\n",
       "      <td>mg/g N</td>\n",
       "      <td>mg</td>\n",
       "      <td>mg/g N</td>\n",
       "      <td>mg</td>\n",
       "      <td>mg/g N</td>\n",
       "      <td>mg</td>\n",
       "      <td>mg/g N</td>\n",
       "      <td>mg</td>\n",
       "    </tr>\n",
       "    <tr>\n",
       "      <th>1</th>\n",
       "      <td>F002258</td>\n",
       "      <td>31302.0</td>\n",
       "      <td>Cardamom seed, dried, ground</td>\n",
       "      <td>1236</td>\n",
       "      <td>1012</td>\n",
       "      <td>8.3</td>\n",
       "      <td>10.8</td>\n",
       "      <td>1.72</td>\n",
       "      <td>6.7</td>\n",
       "      <td>5.8</td>\n",
       "      <td>...</td>\n",
       "      <td>NaN</td>\n",
       "      <td>NaN</td>\n",
       "      <td>NaN</td>\n",
       "      <td>NaN</td>\n",
       "      <td>NaN</td>\n",
       "      <td>NaN</td>\n",
       "      <td>NaN</td>\n",
       "      <td>NaN</td>\n",
       "      <td>NaN</td>\n",
       "      <td>NaN</td>\n",
       "    </tr>\n",
       "  </tbody>\n",
       "</table>\n",
       "<p>2 rows × 252 columns</p>\n",
       "</div>"
      ],
      "text/plain": [
       "  Public Food Key  Classification                     Food Name  \\\n",
       "0             NaN             NaN                           NaN   \n",
       "1         F002258         31302.0  Cardamom seed, dried, ground   \n",
       "\n",
       "  Energy, with dietary fibre Energy, without dietary fibre Moisture (water)  \\\n",
       "0                         kJ                            kJ                g   \n",
       "1                       1236                          1012              8.3   \n",
       "\n",
       "  Protein Nitrogen Total Fat  Ash  ... Proline Unnamed: 243  Serine  \\\n",
       "0       g        g         g    g  ...  mg/g N           mg  mg/g N   \n",
       "1    10.8     1.72       6.7  5.8  ...     NaN          NaN     NaN   \n",
       "\n",
       "  Unnamed: 245 Threonine Unnamed: 247 Tyrosine Unnamed: 249  Valine  \\\n",
       "0           mg    mg/g N           mg   mg/g N           mg  mg/g N   \n",
       "1          NaN       NaN          NaN      NaN          NaN     NaN   \n",
       "\n",
       "  Unnamed: 251  \n",
       "0           mg  \n",
       "1          NaN  \n",
       "\n",
       "[2 rows x 252 columns]"
      ]
     },
     "execution_count": 203,
     "metadata": {},
     "output_type": "execute_result"
    }
   ],
   "source": [
    "nutrient.head(2)"
   ]
  },
  {
   "cell_type": "code",
   "execution_count": 204,
   "metadata": {},
   "outputs": [],
   "source": [
    "#drop the first row \n",
    "nutrient = nutrient.drop(0)"
   ]
  },
  {
   "cell_type": "code",
   "execution_count": 205,
   "metadata": {},
   "outputs": [],
   "source": [
    "#drop columns with NaN as all values \n",
    "nutrient=nutrient.dropna(axis='columns',how='all')"
   ]
  },
  {
   "cell_type": "code",
   "execution_count": 206,
   "metadata": {},
   "outputs": [],
   "source": [
    "#drop unnamed columns \n",
    "#create a conditin to drop columns\n",
    "dropList = [i for i in nutrient.columns if i.startswith('Unnamed')]"
   ]
  },
  {
   "cell_type": "code",
   "execution_count": 207,
   "metadata": {},
   "outputs": [],
   "source": [
    "#drop the columns using the dropList columns\n",
    "nutrient.drop(dropList,axis=1,inplace=True)"
   ]
  },
  {
   "cell_type": "code",
   "execution_count": 208,
   "metadata": {},
   "outputs": [
    {
     "data": {
      "text/plain": [
       "(1534, 181)"
      ]
     },
     "execution_count": 208,
     "metadata": {},
     "output_type": "execute_result"
    }
   ],
   "source": [
    "#view the shape of the dataframe\n",
    "nutrient.shape"
   ]
  },
  {
   "cell_type": "code",
   "execution_count": 209,
   "metadata": {},
   "outputs": [
    {
     "data": {
      "text/html": [
       "<div>\n",
       "<style scoped>\n",
       "    .dataframe tbody tr th:only-of-type {\n",
       "        vertical-align: middle;\n",
       "    }\n",
       "\n",
       "    .dataframe tbody tr th {\n",
       "        vertical-align: top;\n",
       "    }\n",
       "\n",
       "    .dataframe thead th {\n",
       "        text-align: right;\n",
       "    }\n",
       "</style>\n",
       "<table border=\"1\" class=\"dataframe\">\n",
       "  <thead>\n",
       "    <tr style=\"text-align: right;\">\n",
       "      <th></th>\n",
       "      <th>Public Food Key</th>\n",
       "      <th>Classification</th>\n",
       "      <th>Food Name</th>\n",
       "      <th>Energy, with dietary fibre</th>\n",
       "      <th>Energy, without dietary fibre</th>\n",
       "      <th>Moisture (water)</th>\n",
       "      <th>Protein</th>\n",
       "      <th>Nitrogen</th>\n",
       "      <th>Total Fat</th>\n",
       "      <th>Ash</th>\n",
       "      <th>...</th>\n",
       "      <th>Isoleucine</th>\n",
       "      <th>Leucine</th>\n",
       "      <th>Lysine</th>\n",
       "      <th>Methionine</th>\n",
       "      <th>Phenylalanine</th>\n",
       "      <th>Proline</th>\n",
       "      <th>Serine</th>\n",
       "      <th>Threonine</th>\n",
       "      <th>Tyrosine</th>\n",
       "      <th>Valine</th>\n",
       "    </tr>\n",
       "  </thead>\n",
       "  <tbody>\n",
       "    <tr>\n",
       "      <th>1</th>\n",
       "      <td>F002258</td>\n",
       "      <td>31302.0</td>\n",
       "      <td>Cardamom seed, dried, ground</td>\n",
       "      <td>1236</td>\n",
       "      <td>1012</td>\n",
       "      <td>8.3</td>\n",
       "      <td>10.8</td>\n",
       "      <td>1.72</td>\n",
       "      <td>6.7</td>\n",
       "      <td>5.8</td>\n",
       "      <td>...</td>\n",
       "      <td>NaN</td>\n",
       "      <td>NaN</td>\n",
       "      <td>NaN</td>\n",
       "      <td>NaN</td>\n",
       "      <td>NaN</td>\n",
       "      <td>NaN</td>\n",
       "      <td>NaN</td>\n",
       "      <td>NaN</td>\n",
       "      <td>NaN</td>\n",
       "      <td>NaN</td>\n",
       "    </tr>\n",
       "    <tr>\n",
       "      <th>2</th>\n",
       "      <td>F002893</td>\n",
       "      <td>31302.0</td>\n",
       "      <td>Chilli (chili), dried, ground</td>\n",
       "      <td>1280</td>\n",
       "      <td>1002</td>\n",
       "      <td>10.8</td>\n",
       "      <td>13.4</td>\n",
       "      <td>2.14</td>\n",
       "      <td>14.3</td>\n",
       "      <td>11.8</td>\n",
       "      <td>...</td>\n",
       "      <td>NaN</td>\n",
       "      <td>NaN</td>\n",
       "      <td>NaN</td>\n",
       "      <td>NaN</td>\n",
       "      <td>NaN</td>\n",
       "      <td>NaN</td>\n",
       "      <td>NaN</td>\n",
       "      <td>NaN</td>\n",
       "      <td>NaN</td>\n",
       "      <td>NaN</td>\n",
       "    </tr>\n",
       "  </tbody>\n",
       "</table>\n",
       "<p>2 rows × 181 columns</p>\n",
       "</div>"
      ],
      "text/plain": [
       "  Public Food Key  Classification                      Food Name  \\\n",
       "1         F002258         31302.0   Cardamom seed, dried, ground   \n",
       "2         F002893         31302.0  Chilli (chili), dried, ground   \n",
       "\n",
       "  Energy, with dietary fibre Energy, without dietary fibre Moisture (water)  \\\n",
       "1                       1236                          1012              8.3   \n",
       "2                       1280                          1002             10.8   \n",
       "\n",
       "  Protein Nitrogen Total Fat   Ash  ... Isoleucine Leucine Lysine Methionine  \\\n",
       "1    10.8     1.72       6.7   5.8  ...        NaN     NaN    NaN        NaN   \n",
       "2    13.4     2.14      14.3  11.8  ...        NaN     NaN    NaN        NaN   \n",
       "\n",
       "  Phenylalanine Proline Serine Threonine Tyrosine Valine  \n",
       "1           NaN     NaN    NaN       NaN      NaN    NaN  \n",
       "2           NaN     NaN    NaN       NaN      NaN    NaN  \n",
       "\n",
       "[2 rows x 181 columns]"
      ]
     },
     "execution_count": 209,
     "metadata": {},
     "output_type": "execute_result"
    }
   ],
   "source": [
    "nutrient.head(2)"
   ]
  },
  {
   "cell_type": "code",
   "execution_count": 210,
   "metadata": {},
   "outputs": [],
   "source": [
    "#select specific columns \n",
    "nutrient=nutrient[['Public Food Key','Classification','Food Name','Energy, with dietary fibre',\n",
    "                   'Energy, without dietary fibre','Moisture (water)','Protein','Total Fat',\n",
    "                   'Alcohol','Total sugars','Added sugars','Calcium (Ca)','Sodium (Na)',\n",
    "                   'Vitamin C','Vitamin E']]"
   ]
  },
  {
   "cell_type": "code",
   "execution_count": 255,
   "metadata": {},
   "outputs": [],
   "source": [
    "#rename columns\n",
    "nutrient=nutrient.rename(columns={'Public Food Key':'Public_Food_Key','Classification':'Food_Survey_ID',\n",
    "                                  'Food Name':'Food_Name','Total Fat':'Total_Fat','Total_sugars':'Total_sugars'})"
   ]
  },
  {
   "cell_type": "code",
   "execution_count": 256,
   "metadata": {},
   "outputs": [],
   "source": [
    "#merge nutrient values with food portion to get nutrious values of the food items \n",
    "result= pd.merge(nutrient, measures, how='inner')"
   ]
  },
  {
   "cell_type": "code",
   "execution_count": 264,
   "metadata": {},
   "outputs": [],
   "source": [
    "#convert from float to integer to match the data type of the same column in measures datafram\n",
    "result.Food_Survey_ID=result.Food_Survey_ID.astype(int)"
   ]
  },
  {
   "cell_type": "code",
   "execution_count": 267,
   "metadata": {},
   "outputs": [],
   "source": [
    "#select relevant columns \n",
    "MergedNutrient=result[['Public_Food_Key', 'Food_Survey_ID', 'Food_Name',\n",
    "       'Energy, with dietary fibre', 'Energy, without dietary fibre',\n",
    "       'Moisture (water)', 'Protein', 'Total_Fat', 'Alcohol', 'Total sugars',\n",
    "       'Added sugars', 'Calcium (Ca)', 'Sodium (Na)', 'Vitamin C',\n",
    "       'Vitamin E']]"
   ]
  },
  {
   "cell_type": "code",
   "execution_count": 269,
   "metadata": {},
   "outputs": [
    {
     "data": {
      "text/html": [
       "<div>\n",
       "<style scoped>\n",
       "    .dataframe tbody tr th:only-of-type {\n",
       "        vertical-align: middle;\n",
       "    }\n",
       "\n",
       "    .dataframe tbody tr th {\n",
       "        vertical-align: top;\n",
       "    }\n",
       "\n",
       "    .dataframe thead th {\n",
       "        text-align: right;\n",
       "    }\n",
       "</style>\n",
       "<table border=\"1\" class=\"dataframe\">\n",
       "  <thead>\n",
       "    <tr style=\"text-align: right;\">\n",
       "      <th></th>\n",
       "      <th>Public_Food_Key</th>\n",
       "      <th>Food_Survey_ID</th>\n",
       "      <th>Food_Name</th>\n",
       "      <th>Energy, with dietary fibre</th>\n",
       "      <th>Energy, without dietary fibre</th>\n",
       "      <th>Moisture (water)</th>\n",
       "      <th>Protein</th>\n",
       "      <th>Total_Fat</th>\n",
       "      <th>Alcohol</th>\n",
       "      <th>Total sugars</th>\n",
       "      <th>Added sugars</th>\n",
       "      <th>Calcium (Ca)</th>\n",
       "      <th>Sodium (Na)</th>\n",
       "      <th>Vitamin C</th>\n",
       "      <th>Vitamin E</th>\n",
       "    </tr>\n",
       "  </thead>\n",
       "  <tbody>\n",
       "    <tr>\n",
       "      <th>0</th>\n",
       "      <td>F000996</td>\n",
       "      <td>29101</td>\n",
       "      <td>Beer, high alcohol (5% v/v &amp; above)</td>\n",
       "      <td>174</td>\n",
       "      <td>174</td>\n",
       "      <td>91.9</td>\n",
       "      <td>0.5</td>\n",
       "      <td>0</td>\n",
       "      <td>4.5</td>\n",
       "      <td>0.2</td>\n",
       "      <td>0</td>\n",
       "      <td>4</td>\n",
       "      <td>4</td>\n",
       "      <td>0</td>\n",
       "      <td>0</td>\n",
       "    </tr>\n",
       "    <tr>\n",
       "      <th>1</th>\n",
       "      <td>F000994</td>\n",
       "      <td>29101</td>\n",
       "      <td>Beer, full strength (alcohol 4-4.9% v/v)</td>\n",
       "      <td>152</td>\n",
       "      <td>152</td>\n",
       "      <td>93</td>\n",
       "      <td>0.4</td>\n",
       "      <td>0</td>\n",
       "      <td>3.7</td>\n",
       "      <td>0</td>\n",
       "      <td>0</td>\n",
       "      <td>4</td>\n",
       "      <td>5</td>\n",
       "      <td>0</td>\n",
       "      <td>0</td>\n",
       "    </tr>\n",
       "    <tr>\n",
       "      <th>2</th>\n",
       "      <td>F000995</td>\n",
       "      <td>29101</td>\n",
       "      <td>Beer, full strength (alcohol 4-4.9% v/v), carb...</td>\n",
       "      <td>126</td>\n",
       "      <td>126</td>\n",
       "      <td>94.6</td>\n",
       "      <td>0.3</td>\n",
       "      <td>0</td>\n",
       "      <td>3.6</td>\n",
       "      <td>0</td>\n",
       "      <td>0</td>\n",
       "      <td>3</td>\n",
       "      <td>4</td>\n",
       "      <td>0</td>\n",
       "      <td>0</td>\n",
       "    </tr>\n",
       "    <tr>\n",
       "      <th>3</th>\n",
       "      <td>F001006</td>\n",
       "      <td>29102</td>\n",
       "      <td>Beer, mid-strength (alcohol 3-3.9% v/v)</td>\n",
       "      <td>128</td>\n",
       "      <td>128</td>\n",
       "      <td>94.1</td>\n",
       "      <td>0.3</td>\n",
       "      <td>0</td>\n",
       "      <td>3</td>\n",
       "      <td>0</td>\n",
       "      <td>0</td>\n",
       "      <td>4</td>\n",
       "      <td>3</td>\n",
       "      <td>0</td>\n",
       "      <td>0</td>\n",
       "    </tr>\n",
       "  </tbody>\n",
       "</table>\n",
       "</div>"
      ],
      "text/plain": [
       "  Public_Food_Key  Food_Survey_ID  \\\n",
       "0         F000996           29101   \n",
       "1         F000994           29101   \n",
       "2         F000995           29101   \n",
       "3         F001006           29102   \n",
       "\n",
       "                                           Food_Name  \\\n",
       "0                Beer, high alcohol (5% v/v & above)   \n",
       "1           Beer, full strength (alcohol 4-4.9% v/v)   \n",
       "2  Beer, full strength (alcohol 4-4.9% v/v), carb...   \n",
       "3            Beer, mid-strength (alcohol 3-3.9% v/v)   \n",
       "\n",
       "  Energy, with dietary fibre Energy, without dietary fibre Moisture (water)  \\\n",
       "0                        174                           174             91.9   \n",
       "1                        152                           152               93   \n",
       "2                        126                           126             94.6   \n",
       "3                        128                           128             94.1   \n",
       "\n",
       "  Protein Total_Fat Alcohol Total sugars Added sugars Calcium (Ca)  \\\n",
       "0     0.5         0     4.5          0.2            0            4   \n",
       "1     0.4         0     3.7            0            0            4   \n",
       "2     0.3         0     3.6            0            0            3   \n",
       "3     0.3         0       3            0            0            4   \n",
       "\n",
       "  Sodium (Na) Vitamin C Vitamin E  \n",
       "0           4         0         0  \n",
       "1           5         0         0  \n",
       "2           4         0         0  \n",
       "3           3         0         0  "
      ]
     },
     "execution_count": 269,
     "metadata": {},
     "output_type": "execute_result"
    }
   ],
   "source": [
    "#view the first few rows of the dataframe\n",
    "MergedNutrient.head(4)"
   ]
  },
  {
   "cell_type": "code",
   "execution_count": 270,
   "metadata": {
    "scrolled": false
   },
   "outputs": [],
   "source": [
    "#save to CSV\n",
    "MergedNutrient.to_csv('Nutrient_Value.csv',index=False)"
   ]
  }
 ],
 "metadata": {
  "kernelspec": {
   "display_name": "Python 3",
   "language": "python",
   "name": "python3"
  },
  "language_info": {
   "codemirror_mode": {
    "name": "ipython",
    "version": 3
   },
   "file_extension": ".py",
   "mimetype": "text/x-python",
   "name": "python",
   "nbconvert_exporter": "python",
   "pygments_lexer": "ipython3",
   "version": "3.8.5"
  }
 },
 "nbformat": 4,
 "nbformat_minor": 4
}
